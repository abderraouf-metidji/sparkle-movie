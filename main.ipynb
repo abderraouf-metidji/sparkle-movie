{
 "cells": [
  {
   "cell_type": "markdown",
   "metadata": {},
   "source": [
    "# INTRODUCTION"
   ]
  },
  {
   "cell_type": "markdown",
   "metadata": {},
   "source": [
    "## Contexte du Projet"
   ]
  },
  {
   "cell_type": "markdown",
   "metadata": {},
   "source": [
    "## Mise en place de PySpark"
   ]
  },
  {
   "cell_type": "code",
   "execution_count": 8,
   "metadata": {},
   "outputs": [
    {
     "name": "stdout",
     "output_type": "stream",
     "text": [
      "Requirement already satisfied: pyspark in c:\\users\\taral\\appdata\\local\\packages\\pythonsoftwarefoundation.python.3.11_qbz5n2kfra8p0\\localcache\\local-packages\\python311\\site-packages (3.5.4)\n",
      "Requirement already satisfied: py4j==0.10.9.7 in c:\\users\\taral\\appdata\\local\\packages\\pythonsoftwarefoundation.python.3.11_qbz5n2kfra8p0\\localcache\\local-packages\\python311\\site-packages (from pyspark) (0.10.9.7)\n",
      "Note: you may need to restart the kernel to use updated packages.\n"
     ]
    }
   ],
   "source": [
    "# Installation de pyspark\n",
    "%pip install pyspark"
   ]
  },
  {
   "cell_type": "markdown",
   "metadata": {},
   "source": [
    "IMPORTANT : PENSEZ A INSTALLER JAVA - winget install --exact --id EclipseAdoptium.Temurin.11.JDK"
   ]
  },
  {
   "cell_type": "markdown",
   "metadata": {},
   "source": [
    "Fix pour python 3.12 qui ne contient plus la librairie distutils"
   ]
  },
  {
   "cell_type": "code",
   "execution_count": 9,
   "metadata": {},
   "outputs": [],
   "source": [
    "import sys\n",
    "try:\n",
    "    import distutils\n",
    "except ModuleNotFoundError:\n",
    "    import setuptools._distutils as distutils\n",
    "    sys.modules[\"distutils\"] = distutils"
   ]
  },
  {
   "cell_type": "code",
   "execution_count": 10,
   "metadata": {},
   "outputs": [],
   "source": [
    "from pyspark.sql import SparkSession\n",
    "\n",
    "spark = SparkSession.builder \\\n",
    "    .appName(\"MoviesRatings\") \\\n",
    "    .config(\"spark.driver.memory\", \"4g\") \\\n",
    "    .config(\"spark.executor.memory\", \"4g\") \\\n",
    "    .getOrCreate()\n"
   ]
  },
  {
   "cell_type": "markdown",
   "metadata": {},
   "source": [
    "## Import et traitement des datasets"
   ]
  },
  {
   "cell_type": "code",
   "execution_count": 11,
   "metadata": {},
   "outputs": [],
   "source": [
    "# Import des datasets ratings.csv & movies.csv\n",
    "ratings = spark.read.csv(\"ml-latest-small/ratings.csv\", header=True, inferSchema=True)\n",
    "movies = spark.read.csv(\"ml-latest-small/movies.csv\", header=True, inferSchema=True)\n"
   ]
  },
  {
   "cell_type": "code",
   "execution_count": 12,
   "metadata": {},
   "outputs": [
    {
     "name": "stdout",
     "output_type": "stream",
     "text": [
      "+------+-------+------+---------+\n",
      "|userId|movieId|rating|timestamp|\n",
      "+------+-------+------+---------+\n",
      "|     1|      1|   4.0|964982703|\n",
      "|     1|      3|   4.0|964981247|\n",
      "|     1|      6|   4.0|964982224|\n",
      "|     1|     47|   5.0|964983815|\n",
      "|     1|     50|   5.0|964982931|\n",
      "|     1|     70|   3.0|964982400|\n",
      "|     1|    101|   5.0|964980868|\n",
      "|     1|    110|   4.0|964982176|\n",
      "|     1|    151|   5.0|964984041|\n",
      "|     1|    157|   5.0|964984100|\n",
      "+------+-------+------+---------+\n",
      "only showing top 10 rows\n",
      "\n",
      "+-------+--------------------+--------------------+\n",
      "|movieId|               title|              genres|\n",
      "+-------+--------------------+--------------------+\n",
      "|      1|    Toy Story (1995)|Adventure|Animati...|\n",
      "|      2|      Jumanji (1995)|Adventure|Childre...|\n",
      "|      3|Grumpier Old Men ...|      Comedy|Romance|\n",
      "|      4|Waiting to Exhale...|Comedy|Drama|Romance|\n",
      "|      5|Father of the Bri...|              Comedy|\n",
      "|      6|         Heat (1995)|Action|Crime|Thri...|\n",
      "|      7|      Sabrina (1995)|      Comedy|Romance|\n",
      "|      8| Tom and Huck (1995)|  Adventure|Children|\n",
      "|      9| Sudden Death (1995)|              Action|\n",
      "|     10|    GoldenEye (1995)|Action|Adventure|...|\n",
      "+-------+--------------------+--------------------+\n",
      "only showing top 10 rows\n",
      "\n"
     ]
    }
   ],
   "source": [
    "# On Affiche les les 10 premières lignes des deux datasets\n",
    "ratings.show(10)\n",
    "movies.show(10)"
   ]
  },
  {
   "cell_type": "code",
   "execution_count": 13,
   "metadata": {},
   "outputs": [
    {
     "name": "stdout",
     "output_type": "stream",
     "text": [
      "root\n",
      " |-- userId: integer (nullable = true)\n",
      " |-- movieId: integer (nullable = true)\n",
      " |-- rating: double (nullable = true)\n",
      " |-- timestamp: integer (nullable = true)\n",
      "\n",
      "root\n",
      " |-- movieId: integer (nullable = true)\n",
      " |-- title: string (nullable = true)\n",
      " |-- genres: string (nullable = true)\n",
      "\n"
     ]
    }
   ],
   "source": [
    "# On affiche le schéma des deux datasets\n",
    "ratings.printSchema()\n",
    "movies.printSchema()"
   ]
  },
  {
   "cell_type": "code",
   "execution_count": 14,
   "metadata": {},
   "outputs": [
    {
     "name": "stdout",
     "output_type": "stream",
     "text": [
      "Nombre de lignes dans ratings :  100836\n",
      "Nombre de lignes dans movies :  9742\n"
     ]
    }
   ],
   "source": [
    "# On regarde le nombre de lignes de chaque dataset\n",
    "print(\"Nombre de lignes dans ratings : \", ratings.count())\n",
    "print(\"Nombre de lignes dans movies : \", movies.count())"
   ]
  },
  {
   "cell_type": "markdown",
   "metadata": {},
   "source": [
    "### Imports PySpark"
   ]
  },
  {
   "cell_type": "code",
   "execution_count": 15,
   "metadata": {},
   "outputs": [],
   "source": [
    "from pyspark.sql.functions import isnan, when, count, col, avg, lit, explode, split, row_number\n",
    "from pyspark.sql.window import Window"
   ]
  },
  {
   "cell_type": "code",
   "execution_count": 16,
   "metadata": {},
   "outputs": [
    {
     "name": "stdout",
     "output_type": "stream",
     "text": [
      "+------+-------+------+---------+\n",
      "|userId|movieId|rating|timestamp|\n",
      "+------+-------+------+---------+\n",
      "|     0|      0|     0|        0|\n",
      "+------+-------+------+---------+\n",
      "\n",
      "+-------+-----+------+\n",
      "|movieId|title|genres|\n",
      "+-------+-----+------+\n",
      "|      0|    0|     0|\n",
      "+-------+-----+------+\n",
      "\n"
     ]
    }
   ],
   "source": [
    "# On regarde le nombre de valeurs manquantes dans chaque dataset\n",
    "\n",
    "ratings.select([count(when(isnan(c) | col(c).isNull(), c)).alias(c) for c in ratings.columns]).show()\n",
    "movies.select([count(when(isnan(c) | col(c).isNull(), c)).alias(c) for c in movies.columns]).show()"
   ]
  },
  {
   "cell_type": "code",
   "execution_count": 17,
   "metadata": {},
   "outputs": [
    {
     "name": "stdout",
     "output_type": "stream",
     "text": [
      "+------+-------+------+---------+\n",
      "|userId|movieId|rating|timestamp|\n",
      "+------+-------+------+---------+\n",
      "|100836| 100836|100836|   100836|\n",
      "+------+-------+------+---------+\n",
      "\n",
      "+-------+-----+------+\n",
      "|movieId|title|genres|\n",
      "+-------+-----+------+\n",
      "|   9742| 9742|  9742|\n",
      "+-------+-----+------+\n",
      "\n"
     ]
    }
   ],
   "source": [
    "# On regarde le nombre de valeurs distinctes dans chaque dataset\n",
    "ratings.agg(*(count(col(c)).alias(c) for c in ratings.columns)).show()\n",
    "movies.agg(*(count(col(c)).alias(c) for c in movies.columns)).show()"
   ]
  },
  {
   "cell_type": "code",
   "execution_count": 18,
   "metadata": {},
   "outputs": [
    {
     "name": "stdout",
     "output_type": "stream",
     "text": [
      "+-------+------------------+--------------------+\n",
      "|summary|            rating|           timestamp|\n",
      "+-------+------------------+--------------------+\n",
      "|  count|            100836|              100836|\n",
      "|   mean| 3.501556983616962|1.2059460873684695E9|\n",
      "| stddev|1.0425292390606342|2.1626103599513078E8|\n",
      "|    min|               0.5|           828124615|\n",
      "|    max|               5.0|          1537799250|\n",
      "+-------+------------------+--------------------+\n",
      "\n"
     ]
    }
   ],
   "source": [
    "# On regarde les statistiques descriptives des colonnes rating et timestamp du dataset ratings\n",
    "ratings.describe([\"rating\", \"timestamp\"]).show()\n"
   ]
  },
  {
   "cell_type": "code",
   "execution_count": 19,
   "metadata": {},
   "outputs": [
    {
     "name": "stdout",
     "output_type": "stream",
     "text": [
      "+-------+----------+\n",
      "|movieId|avg_rating|\n",
      "+-------+----------+\n",
      "|  26350|       5.0|\n",
      "|   3795|       5.0|\n",
      "|  25887|       5.0|\n",
      "| 157775|       5.0|\n",
      "|    633|       5.0|\n",
      "|  33138|       5.0|\n",
      "|  67618|       5.0|\n",
      "|    876|       5.0|\n",
      "|    496|       5.0|\n",
      "|  27373|       5.0|\n",
      "| 113829|       5.0|\n",
      "|  53578|       5.0|\n",
      "| 152711|       5.0|\n",
      "| 118894|       5.0|\n",
      "|     53|       5.0|\n",
      "| 160644|       5.0|\n",
      "|    148|       5.0|\n",
      "|   8911|       5.0|\n",
      "| 147300|       5.0|\n",
      "|  84273|       5.0|\n",
      "+-------+----------+\n",
      "only showing top 20 rows\n",
      "\n"
     ]
    }
   ],
   "source": [
    "# Quels sont les films les mieux notés en moyenne \n",
    "\n",
    "ratings.groupBy(\"movieId\").agg(avg(\"rating\").alias(\"avg_rating\")).orderBy(\"avg_rating\", ascending=False).show()"
   ]
  },
  {
   "cell_type": "code",
   "execution_count": 20,
   "metadata": {},
   "outputs": [
    {
     "name": "stdout",
     "output_type": "stream",
     "text": [
      "+-------+-----+\n",
      "|movieId|count|\n",
      "+-------+-----+\n",
      "|    356|  329|\n",
      "|    318|  317|\n",
      "|    296|  307|\n",
      "|    593|  279|\n",
      "|   2571|  278|\n",
      "|    260|  251|\n",
      "|    480|  238|\n",
      "|    110|  237|\n",
      "|    589|  224|\n",
      "|    527|  220|\n",
      "|   2959|  218|\n",
      "|      1|  215|\n",
      "|   1196|  211|\n",
      "|     50|  204|\n",
      "|   2858|  204|\n",
      "|     47|  203|\n",
      "|    780|  202|\n",
      "|    150|  201|\n",
      "|   1198|  200|\n",
      "|   4993|  198|\n",
      "+-------+-----+\n",
      "only showing top 20 rows\n",
      "\n"
     ]
    }
   ],
   "source": [
    "# Quels sont les films les plus populaires \n",
    "ratings.groupBy(\"movieId\").count().orderBy(\"count\", ascending=False).show()"
   ]
  },
  {
   "cell_type": "code",
   "execution_count": 21,
   "metadata": {},
   "outputs": [
    {
     "name": "stdout",
     "output_type": "stream",
     "text": [
      "+-----------------------------------------+-----------------+------------+\n",
      "|title                                    |avg_rating       |count_rating|\n",
      "+-----------------------------------------+-----------------+------------+\n",
      "|Shawshank Redemption, The (1994)         |4.429022082018927|317         |\n",
      "|Godfather, The (1972)                    |4.2890625        |192         |\n",
      "|Fight Club (1999)                        |4.272935779816514|218         |\n",
      "|Godfather: Part II, The (1974)           |4.25968992248062 |129         |\n",
      "|Departed, The (2006)                     |4.252336448598131|107         |\n",
      "|Goodfellas (1990)                        |4.25             |126         |\n",
      "|Dark Knight, The (2008)                  |4.238255033557047|149         |\n",
      "|Usual Suspects, The (1995)               |4.237745098039215|204         |\n",
      "|Princess Bride, The (1987)               |4.232394366197183|142         |\n",
      "|Star Wars: Episode IV - A New Hope (1977)|4.231075697211155|251         |\n",
      "+-----------------------------------------+-----------------+------------+\n",
      "\n",
      "+-----------------------------------------------------+------------------+------------+\n",
      "|title                                                |avg_rating        |count_rating|\n",
      "+-----------------------------------------------------+------------------+------------+\n",
      "|Shawshank Redemption, The (1994)                     |4.429022082018927 |317         |\n",
      "|Fight Club (1999)                                    |4.272935779816514 |218         |\n",
      "|Usual Suspects, The (1995)                           |4.237745098039215 |204         |\n",
      "|Star Wars: Episode IV - A New Hope (1977)            |4.231075697211155 |251         |\n",
      "|Schindler's List (1993)                              |4.225             |220         |\n",
      "|Star Wars: Episode V - The Empire Strikes Back (1980)|4.2156398104265405|211         |\n",
      "|Pulp Fiction (1994)                                  |4.197068403908795 |307         |\n",
      "|Matrix, The (1999)                                   |4.192446043165468 |278         |\n",
      "|Forrest Gump (1994)                                  |4.164133738601824 |329         |\n",
      "|Silence of the Lambs, The (1991)                     |4.161290322580645 |279         |\n",
      "+-----------------------------------------------------+------------------+------------+\n",
      "\n",
      "+--------------------------------+-----------------+------------+\n",
      "|title                           |avg_rating       |count_rating|\n",
      "+--------------------------------+-----------------+------------+\n",
      "|Shawshank Redemption, The (1994)|4.429022082018927|317         |\n",
      "|Pulp Fiction (1994)             |4.197068403908795|307         |\n",
      "|Forrest Gump (1994)             |4.164133738601824|329         |\n",
      "+--------------------------------+-----------------+------------+\n",
      "\n"
     ]
    }
   ],
   "source": [
    "# Quels sont les 10 films les mieux notés en moyenne avec plus de 100/200 & 300 notes\n",
    "\n",
    "# Jointure commune entre ratings et movies\n",
    "ratings_with_titles = ratings.join(movies, on=\"movieId\", how=\"inner\")\n",
    "\n",
    "# Fonction pour obtenir les films mieux notés avec un seuil minimal de votes\n",
    "def top_movies_by_avg(threshold, limit=10):\n",
    "    return (\n",
    "        ratings_with_titles\n",
    "        .groupBy(\"movieId\", \"title\")\n",
    "        .agg(avg(\"rating\").alias(\"avg_rating\"), count(\"rating\").alias(\"count_rating\"))\n",
    "        .filter(col(\"count_rating\") > threshold)\n",
    "        .orderBy(col(\"avg_rating\").desc())\n",
    "        .select(\"title\", \"avg_rating\", \"count_rating\")\n",
    "        .limit(limit)\n",
    "    )\n",
    "\n",
    "top_movies_by_avg(100).show(10, False)\n",
    "top_movies_by_avg(200).show(10, False)\n",
    "top_movies_by_avg(300).show(10, False)"
   ]
  },
  {
   "cell_type": "code",
   "execution_count": 22,
   "metadata": {},
   "outputs": [
    {
     "name": "stdout",
     "output_type": "stream",
     "text": [
      "Most Popular Movies:\n",
      "+-------+------------+------------------------------------------------------------------------------+-------------------------------------------+\n",
      "|movieId|count_rating|title                                                                         |genres                                     |\n",
      "+-------+------------+------------------------------------------------------------------------------+-------------------------------------------+\n",
      "|356    |329         |Forrest Gump (1994)                                                           |Comedy|Drama|Romance|War                   |\n",
      "|318    |317         |Shawshank Redemption, The (1994)                                              |Crime|Drama                                |\n",
      "|296    |307         |Pulp Fiction (1994)                                                           |Comedy|Crime|Drama|Thriller                |\n",
      "|593    |279         |Silence of the Lambs, The (1991)                                              |Crime|Horror|Thriller                      |\n",
      "|2571   |278         |Matrix, The (1999)                                                            |Action|Sci-Fi|Thriller                     |\n",
      "|260    |251         |Star Wars: Episode IV - A New Hope (1977)                                     |Action|Adventure|Sci-Fi                    |\n",
      "|480    |238         |Jurassic Park (1993)                                                          |Action|Adventure|Sci-Fi|Thriller           |\n",
      "|110    |237         |Braveheart (1995)                                                             |Action|Drama|War                           |\n",
      "|589    |224         |Terminator 2: Judgment Day (1991)                                             |Action|Sci-Fi                              |\n",
      "|527    |220         |Schindler's List (1993)                                                       |Drama|War                                  |\n",
      "|2959   |218         |Fight Club (1999)                                                             |Action|Crime|Drama|Thriller                |\n",
      "|1      |215         |Toy Story (1995)                                                              |Adventure|Animation|Children|Comedy|Fantasy|\n",
      "|1196   |211         |Star Wars: Episode V - The Empire Strikes Back (1980)                         |Action|Adventure|Sci-Fi                    |\n",
      "|50     |204         |Usual Suspects, The (1995)                                                    |Crime|Mystery|Thriller                     |\n",
      "|2858   |204         |American Beauty (1999)                                                        |Drama|Romance                              |\n",
      "|47     |203         |Seven (a.k.a. Se7en) (1995)                                                   |Mystery|Thriller                           |\n",
      "|780    |202         |Independence Day (a.k.a. ID4) (1996)                                          |Action|Adventure|Sci-Fi|Thriller           |\n",
      "|150    |201         |Apollo 13 (1995)                                                              |Adventure|Drama|IMAX                       |\n",
      "|1198   |200         |Raiders of the Lost Ark (Indiana Jones and the Raiders of the Lost Ark) (1981)|Action|Adventure                           |\n",
      "|4993   |198         |Lord of the Rings: The Fellowship of the Ring, The (2001)                     |Adventure|Fantasy                          |\n",
      "|1210   |196         |Star Wars: Episode VI - Return of the Jedi (1983)                             |Action|Adventure|Sci-Fi                    |\n",
      "|858    |192         |Godfather, The (1972)                                                         |Crime|Drama                                |\n",
      "|457    |190         |Fugitive, The (1993)                                                          |Thriller                                   |\n",
      "|592    |189         |Batman (1989)                                                                 |Action|Crime|Thriller                      |\n",
      "|5952   |188         |Lord of the Rings: The Two Towers, The (2002)                                 |Adventure|Fantasy                          |\n",
      "|2028   |188         |Saving Private Ryan (1998)                                                    |Action|Drama|War                           |\n",
      "|7153   |185         |Lord of the Rings: The Return of the King, The (2003)                         |Action|Adventure|Drama|Fantasy             |\n",
      "|588    |183         |Aladdin (1992)                                                                |Adventure|Animation|Children|Comedy|Musical|\n",
      "|608    |181         |Fargo (1996)                                                                  |Comedy|Crime|Drama|Thriller                |\n",
      "|2762   |179         |Sixth Sense, The (1999)                                                       |Drama|Horror|Mystery                       |\n",
      "+-------+------------+------------------------------------------------------------------------------+-------------------------------------------+\n",
      "\n",
      "\n",
      "Top 5 Movies by Genre:\n",
      "Genre: (no genres listed)\n",
      "+-------------------------------------------------------+------------------+------------+------------------+----+\n",
      "|title                                                  |genre             |count_rating|avg_rating        |rank|\n",
      "+-------------------------------------------------------+------------------+------------+------------------+----+\n",
      "|Pirates of the Caribbean: Dead Men Tell No Tales (2017)|(no genres listed)|7           |3.7857142857142856|1   |\n",
      "|Green Room (2015)                                      |(no genres listed)|3           |3.3333333333333335|2   |\n",
      "|Whiplash (2013)                                        |(no genres listed)|2           |4.75              |3   |\n",
      "|The Godfather Trilogy: 1972-1990 (1992)                |(no genres listed)|2           |4.75              |4   |\n",
      "|The Brand New Testament (2015)                         |(no genres listed)|2           |4.0               |5   |\n",
      "+-------------------------------------------------------+------------------+------------+------------------+----+\n",
      "\n",
      "Genre: Action\n",
      "+-----------------------------------------+------+------------+-----------------+----+\n",
      "|title                                    |genre |count_rating|avg_rating       |rank|\n",
      "+-----------------------------------------+------+------------+-----------------+----+\n",
      "|Matrix, The (1999)                       |Action|278         |4.192446043165468|1   |\n",
      "|Star Wars: Episode IV - A New Hope (1977)|Action|251         |4.231075697211155|2   |\n",
      "|Jurassic Park (1993)                     |Action|238         |3.75             |3   |\n",
      "|Braveheart (1995)                        |Action|237         |4.031645569620253|4   |\n",
      "|Terminator 2: Judgment Day (1991)        |Action|224         |3.970982142857143|5   |\n",
      "+-----------------------------------------+------+------------+-----------------+----+\n",
      "\n",
      "Genre: Adventure\n",
      "+-----------------------------------------------------+---------+------------+------------------+----+\n",
      "|title                                                |genre    |count_rating|avg_rating        |rank|\n",
      "+-----------------------------------------------------+---------+------------+------------------+----+\n",
      "|Star Wars: Episode IV - A New Hope (1977)            |Adventure|251         |4.231075697211155 |1   |\n",
      "|Jurassic Park (1993)                                 |Adventure|238         |3.75              |2   |\n",
      "|Toy Story (1995)                                     |Adventure|215         |3.9209302325581397|3   |\n",
      "|Star Wars: Episode V - The Empire Strikes Back (1980)|Adventure|211         |4.2156398104265405|4   |\n",
      "|Independence Day (a.k.a. ID4) (1996)                 |Adventure|202         |3.4455445544554455|5   |\n",
      "+-----------------------------------------------------+---------+------------+------------------+----+\n",
      "\n",
      "Genre: Animation\n",
      "+---------------------------+---------+------------+------------------+----+\n",
      "|title                      |genre    |count_rating|avg_rating        |rank|\n",
      "+---------------------------+---------+------------+------------------+----+\n",
      "|Toy Story (1995)           |Animation|215         |3.9209302325581397|1   |\n",
      "|Aladdin (1992)             |Animation|183         |3.7923497267759565|2   |\n",
      "|Lion King, The (1994)      |Animation|172         |3.941860465116279 |3   |\n",
      "|Shrek (2001)               |Animation|170         |3.8676470588235294|4   |\n",
      "|Beauty and the Beast (1991)|Animation|146         |3.7705479452054793|5   |\n",
      "+---------------------------+---------+------------+------------------+----+\n",
      "\n",
      "Genre: Children\n",
      "+---------------------------+--------+------------+------------------+----+\n",
      "|title                      |genre   |count_rating|avg_rating        |rank|\n",
      "+---------------------------+--------+------------+------------------+----+\n",
      "|Toy Story (1995)           |Children|215         |3.9209302325581397|1   |\n",
      "|Aladdin (1992)             |Children|183         |3.7923497267759565|2   |\n",
      "|Lion King, The (1994)      |Children|172         |3.941860465116279 |3   |\n",
      "|Shrek (2001)               |Children|170         |3.8676470588235294|4   |\n",
      "|Beauty and the Beast (1991)|Children|146         |3.7705479452054793|5   |\n",
      "+---------------------------+--------+------------+------------------+----+\n",
      "\n",
      "Genre: Comedy\n",
      "+-------------------+------+------------+------------------+----+\n",
      "|title              |genre |count_rating|avg_rating        |rank|\n",
      "+-------------------+------+------------+------------------+----+\n",
      "|Forrest Gump (1994)|Comedy|329         |4.164133738601824 |1   |\n",
      "|Pulp Fiction (1994)|Comedy|307         |4.197068403908795 |2   |\n",
      "|Toy Story (1995)   |Comedy|215         |3.9209302325581397|3   |\n",
      "|Aladdin (1992)     |Comedy|183         |3.7923497267759565|4   |\n",
      "|Fargo (1996)       |Comedy|181         |4.116022099447513 |5   |\n",
      "+-------------------+------+------------+------------------+----+\n",
      "\n",
      "Genre: Crime\n",
      "+--------------------------------+-----+------------+-----------------+----+\n",
      "|title                           |genre|count_rating|avg_rating       |rank|\n",
      "+--------------------------------+-----+------------+-----------------+----+\n",
      "|Shawshank Redemption, The (1994)|Crime|317         |4.429022082018927|1   |\n",
      "|Pulp Fiction (1994)             |Crime|307         |4.197068403908795|2   |\n",
      "|Silence of the Lambs, The (1991)|Crime|279         |4.161290322580645|3   |\n",
      "|Fight Club (1999)               |Crime|218         |4.272935779816514|4   |\n",
      "|Usual Suspects, The (1995)      |Crime|204         |4.237745098039215|5   |\n",
      "+--------------------------------+-----+------------+-----------------+----+\n",
      "\n",
      "Genre: Documentary\n",
      "+----------------------------+-----------+------------+------------------+----+\n",
      "|title                       |genre      |count_rating|avg_rating        |rank|\n",
      "+----------------------------+-----------+------------+------------------+----+\n",
      "|Bowling for Columbine (2002)|Documentary|58          |3.7758620689655173|1   |\n",
      "|Super Size Me (2004)        |Documentary|50          |3.51              |2   |\n",
      "|Fahrenheit 9/11 (2004)      |Documentary|37          |3.4864864864864864|3   |\n",
      "|Roger & Me (1989)           |Documentary|31          |3.838709677419355 |4   |\n",
      "|Hoop Dreams (1994)          |Documentary|29          |4.293103448275862 |5   |\n",
      "+----------------------------+-----------+------------+------------------+----+\n",
      "\n",
      "Genre: Drama\n",
      "+--------------------------------+-----+------------+-----------------+----+\n",
      "|title                           |genre|count_rating|avg_rating       |rank|\n",
      "+--------------------------------+-----+------------+-----------------+----+\n",
      "|Forrest Gump (1994)             |Drama|329         |4.164133738601824|1   |\n",
      "|Shawshank Redemption, The (1994)|Drama|317         |4.429022082018927|2   |\n",
      "|Pulp Fiction (1994)             |Drama|307         |4.197068403908795|3   |\n",
      "|Braveheart (1995)               |Drama|237         |4.031645569620253|4   |\n",
      "|Schindler's List (1993)         |Drama|220         |4.225            |5   |\n",
      "+--------------------------------+-----+------------+-----------------+----+\n",
      "\n",
      "Genre: Fantasy\n",
      "+---------------------------------------------------------+-------+------------+------------------+----+\n",
      "|title                                                    |genre  |count_rating|avg_rating        |rank|\n",
      "+---------------------------------------------------------+-------+------------+------------------+----+\n",
      "|Toy Story (1995)                                         |Fantasy|215         |3.9209302325581397|1   |\n",
      "|Lord of the Rings: The Fellowship of the Ring, The (2001)|Fantasy|198         |4.106060606060606 |2   |\n",
      "|Lord of the Rings: The Two Towers, The (2002)            |Fantasy|188         |4.0212765957446805|3   |\n",
      "|Lord of the Rings: The Return of the King, The (2003)    |Fantasy|185         |4.118918918918919 |4   |\n",
      "|Shrek (2001)                                             |Fantasy|170         |3.8676470588235294|5   |\n",
      "+---------------------------------------------------------+-------+------------+------------------+----+\n",
      "\n",
      "Genre: Film-Noir\n",
      "+------------------------+---------+------------+------------------+----+\n",
      "|title                   |genre    |count_rating|avg_rating        |rank|\n",
      "+------------------------+---------+------------+------------------+----+\n",
      "|L.A. Confidential (1997)|Film-Noir|97          |4.061855670103093 |1   |\n",
      "|Sin City (2005)         |Film-Noir|84          |3.857142857142857 |2   |\n",
      "|Chinatown (1974)        |Film-Noir|59          |4.211864406779661 |3   |\n",
      "|Mulholland Drive (2001) |Film-Noir|51          |3.843137254901961 |4   |\n",
      "|Dark City (1998)        |Film-Noir|48          |3.8229166666666665|5   |\n",
      "+------------------------+---------+------------+------------------+----+\n",
      "\n",
      "Genre: Horror\n",
      "+--------------------------------+------+------------+------------------+----+\n",
      "|title                           |genre |count_rating|avg_rating        |rank|\n",
      "+--------------------------------+------+------------+------------------+----+\n",
      "|Silence of the Lambs, The (1991)|Horror|279         |4.161290322580645 |1   |\n",
      "|Sixth Sense, The (1999)         |Horror|179         |3.893854748603352 |2   |\n",
      "|Alien (1979)                    |Horror|146         |3.969178082191781 |3   |\n",
      "|Aliens (1986)                   |Horror|126         |3.9642857142857144|4   |\n",
      "|Shining, The (1980)             |Horror|109         |4.08256880733945  |5   |\n",
      "+--------------------------------+------+------------+------------------+----+\n",
      "\n",
      "Genre: IMAX\n",
      "+---------------------------+-----+------------+------------------+----+\n",
      "|title                      |genre|count_rating|avg_rating        |rank|\n",
      "+---------------------------+-----+------------+------------------+----+\n",
      "|Apollo 13 (1995)           |IMAX |201         |3.845771144278607 |1   |\n",
      "|Lion King, The (1994)      |IMAX |172         |3.941860465116279 |2   |\n",
      "|Dark Knight, The (2008)    |IMAX |149         |4.238255033557047 |3   |\n",
      "|Beauty and the Beast (1991)|IMAX |146         |3.7705479452054793|4   |\n",
      "|Inception (2010)           |IMAX |143         |4.066433566433567 |5   |\n",
      "+---------------------------+-----+------------+------------------+----+\n",
      "\n",
      "Genre: Musical\n",
      "+------------------------------------------+-------+------------+------------------+----+\n",
      "|title                                     |genre  |count_rating|avg_rating        |rank|\n",
      "+------------------------------------------+-------+------------+------------------+----+\n",
      "|Aladdin (1992)                            |Musical|183         |3.7923497267759565|1   |\n",
      "|Lion King, The (1994)                     |Musical|172         |3.941860465116279 |2   |\n",
      "|Beauty and the Beast (1991)               |Musical|146         |3.7705479452054793|3   |\n",
      "|Willy Wonka & the Chocolate Factory (1971)|Musical|119         |3.8739495798319328|4   |\n",
      "|Nightmare Before Christmas, The (1993)    |Musical|93          |3.553763440860215 |5   |\n",
      "+------------------------------------------+-------+------------+------------------+----+\n",
      "\n",
      "Genre: Mystery\n",
      "+-----------------------------------------+-------+------------+------------------+----+\n",
      "|title                                    |genre  |count_rating|avg_rating        |rank|\n",
      "+-----------------------------------------+-------+------------+------------------+----+\n",
      "|Usual Suspects, The (1995)               |Mystery|204         |4.237745098039215 |1   |\n",
      "|Seven (a.k.a. Se7en) (1995)              |Mystery|203         |3.9753694581280787|2   |\n",
      "|Sixth Sense, The (1999)                  |Mystery|179         |3.893854748603352 |3   |\n",
      "|Twelve Monkeys (a.k.a. 12 Monkeys) (1995)|Mystery|177         |3.983050847457627 |4   |\n",
      "|Mission: Impossible (1996)               |Mystery|162         |3.537037037037037 |5   |\n",
      "+-----------------------------------------+-------+------------+------------------+----+\n",
      "\n",
      "Genre: Romance\n",
      "+----------------------+-------+------------+------------------+----+\n",
      "|title                 |genre  |count_rating|avg_rating        |rank|\n",
      "+----------------------+-------+------------+------------------+----+\n",
      "|Forrest Gump (1994)   |Romance|329         |4.164133738601824 |1   |\n",
      "|American Beauty (1999)|Romance|204         |4.056372549019608 |2   |\n",
      "|True Lies (1994)      |Romance|178         |3.497191011235955 |3   |\n",
      "|Speed (1994)          |Romance|171         |3.5292397660818713|4   |\n",
      "|Shrek (2001)          |Romance|170         |3.8676470588235294|5   |\n",
      "+----------------------+-------+------------+------------------+----+\n",
      "\n",
      "Genre: Sci-Fi\n",
      "+-----------------------------------------------------+------+------------+------------------+----+\n",
      "|title                                                |genre |count_rating|avg_rating        |rank|\n",
      "+-----------------------------------------------------+------+------------+------------------+----+\n",
      "|Matrix, The (1999)                                   |Sci-Fi|278         |4.192446043165468 |1   |\n",
      "|Star Wars: Episode IV - A New Hope (1977)            |Sci-Fi|251         |4.231075697211155 |2   |\n",
      "|Jurassic Park (1993)                                 |Sci-Fi|238         |3.75              |3   |\n",
      "|Terminator 2: Judgment Day (1991)                    |Sci-Fi|224         |3.970982142857143 |4   |\n",
      "|Star Wars: Episode V - The Empire Strikes Back (1980)|Sci-Fi|211         |4.2156398104265405|5   |\n",
      "+-----------------------------------------------------+------+------------+------------------+----+\n",
      "\n",
      "Genre: Thriller\n",
      "+--------------------------------+--------+------------+-----------------+----+\n",
      "|title                           |genre   |count_rating|avg_rating       |rank|\n",
      "+--------------------------------+--------+------------+-----------------+----+\n",
      "|Pulp Fiction (1994)             |Thriller|307         |4.197068403908795|1   |\n",
      "|Silence of the Lambs, The (1991)|Thriller|279         |4.161290322580645|2   |\n",
      "|Matrix, The (1999)              |Thriller|278         |4.192446043165468|3   |\n",
      "|Jurassic Park (1993)            |Thriller|238         |3.75             |4   |\n",
      "|Fight Club (1999)               |Thriller|218         |4.272935779816514|5   |\n",
      "+--------------------------------+--------+------------+-----------------+----+\n",
      "\n",
      "Genre: War\n",
      "+--------------------------+-----+------------+------------------+----+\n",
      "|title                     |genre|count_rating|avg_rating        |rank|\n",
      "+--------------------------+-----+------------+------------------+----+\n",
      "|Forrest Gump (1994)       |War  |329         |4.164133738601824 |1   |\n",
      "|Braveheart (1995)         |War  |237         |4.031645569620253 |2   |\n",
      "|Schindler's List (1993)   |War  |220         |4.225             |3   |\n",
      "|Saving Private Ryan (1998)|War  |188         |4.1462765957446805|4   |\n",
      "|Apocalypse Now (1979)     |War  |107         |4.219626168224299 |5   |\n",
      "+--------------------------+-----+------------+------------------+----+\n",
      "\n",
      "Genre: Western\n",
      "+-------------------------------------------------------------------------+-------+------------+------------------+----+\n",
      "|title                                                                    |genre  |count_rating|avg_rating        |rank|\n",
      "+-------------------------------------------------------------------------+-------+------------+------------------+----+\n",
      "|Dances with Wolves (1990)                                                |Western|164         |3.8353658536585367|1   |\n",
      "|Back to the Future Part III (1990)                                       |Western|88          |3.3693181818181817|2   |\n",
      "|Maverick (1994)                                                          |Western|74          |3.5               |3   |\n",
      "|Good, the Bad and the Ugly, The (Buono, il brutto, il cattivo, Il) (1966)|Western|72          |4.145833333333333 |4   |\n",
      "|Django Unchained (2012)                                                  |Western|71          |3.943661971830986 |5   |\n",
      "+-------------------------------------------------------------------------+-------+------------+------------------+----+\n",
      "\n"
     ]
    }
   ],
   "source": [
    "# Quels genres de films sont les plus populaires ? (nb de notes) & Top 5 des films les plus populaires par genre\n",
    "\n",
    "def most_popular_movies(limit=30):\n",
    "    return (\n",
    "        ratings.groupBy(\"movieId\")\n",
    "               .agg(count(\"rating\").alias(\"count_rating\"))\n",
    "               .join(movies, \"movieId\")\n",
    "               .orderBy(col(\"count_rating\").desc())\n",
    "               .limit(limit)\n",
    "    )\n",
    "\n",
    "def top5_by_genre():\n",
    "    movies_with_genre = movies.withColumn(\"genre\", explode(split(col(\"genres\"), \"\\\\|\")))\n",
    "    movies_ratings = ratings.join(movies_with_genre, \"movieId\")\n",
    "    movies_stats = movies_ratings.groupBy(\"title\", \"genre\") \\\n",
    "        .agg(count(\"rating\").alias(\"count_rating\"), avg(\"rating\").alias(\"avg_rating\"))\n",
    "    windowSpec = Window.partitionBy(\"genre\").orderBy(col(\"count_rating\").desc())\n",
    "    return movies_stats.withColumn(\"rank\", row_number().over(windowSpec)) \\\n",
    "        .filter(col(\"rank\") <= 5) \\\n",
    "        .orderBy(\"genre\", \"rank\")\n",
    "\n",
    "def display_top5_by_genre(limit_per_genre=5):\n",
    "    df = top5_by_genre()\n",
    "    # Récupérer la liste des genres distincts\n",
    "    genres = [row[\"genre\"] for row in df.select(\"genre\").distinct().collect()]\n",
    "    for genre in sorted(genres):\n",
    "        print(f\"Genre: {genre}\")\n",
    "        df.filter(col(\"genre\") == genre).orderBy(\"rank\").show(limit_per_genre, False)\n",
    "\n",
    "# Utilisation :\n",
    "\n",
    "print(\"Most Popular Movies:\")\n",
    "most_popular_movies().show(30, False)\n",
    "\n",
    "print(\"\\nTop 5 Movies by Genre:\")\n",
    "display_top5_by_genre()"
   ]
  },
  {
   "cell_type": "markdown",
   "metadata": {},
   "source": [
    "## Modelisation avec Spark MLlib : ALS"
   ]
  },
  {
   "cell_type": "code",
   "execution_count": 23,
   "metadata": {},
   "outputs": [],
   "source": [
    "# S'assurer que les colonnes ont le bon type\n",
    "ratings = ratings.withColumn(\"userId\", col(\"userId\").cast(\"integer\")) \\\n",
    "                 .withColumn(\"movieId\", col(\"movieId\").cast(\"integer\")) \\\n",
    "                 .withColumn(\"rating\", col(\"rating\").cast(\"float\"))\n",
    "\n",
    "# Diviser en 80% training et 20% test\n",
    "(training, test) = ratings.randomSplit([0.8, 0.2])"
   ]
  },
  {
   "cell_type": "code",
   "execution_count": 24,
   "metadata": {},
   "outputs": [],
   "source": [
    "from pyspark.ml.recommendation import ALS\n",
    "\n",
    "als = ALS(\n",
    "    maxIter=15,           # Nombre d'itérations\n",
    "    regParam=0.095,         # Paramètre de régularisation\n",
    "    rank=10,              # Dimension des facteurs latents\n",
    "    userCol=\"userId\", \n",
    "    itemCol=\"movieId\", \n",
    "    ratingCol=\"rating\",\n",
    "    coldStartStrategy=\"drop\"  # Pour ignorer les prédictions NaN lors de l'évaluation\n",
    ")\n",
    "\n",
    "# Entraîner le modèle sur le jeu de données d'entraînement\n",
    "model = als.fit(training)"
   ]
  },
  {
   "cell_type": "code",
   "execution_count": 25,
   "metadata": {},
   "outputs": [
    {
     "name": "stdout",
     "output_type": "stream",
     "text": [
      "Root-mean-square error = 0.8840428595137894\n"
     ]
    }
   ],
   "source": [
    "from pyspark.ml.evaluation import RegressionEvaluator\n",
    "\n",
    "# Générer des prédictions sur le test set\n",
    "predictions = model.transform(test)\n",
    "\n",
    "# Configurer l'évaluateur RMSE\n",
    "evaluator = RegressionEvaluator(\n",
    "    metricName=\"rmse\", \n",
    "    labelCol=\"rating\", \n",
    "    predictionCol=\"prediction\"\n",
    ")\n",
    "\n",
    "rmse = evaluator.evaluate(predictions)\n",
    "print(\"Root-mean-square error = {}\".format(rmse))\n"
   ]
  },
  {
   "cell_type": "code",
   "execution_count": 26,
   "metadata": {},
   "outputs": [
    {
     "name": "stdout",
     "output_type": "stream",
     "text": [
      "Mean absolute error = 0.6796227084604229\n",
      "R² = 0.269662007747112\n"
     ]
    }
   ],
   "source": [
    "# Utilisation d'autres métriques d'évaluation\n",
    "evaluator.setMetricName(\"mae\")\n",
    "mae = evaluator.evaluate(predictions)\n",
    "print(\"Mean absolute error = {}\".format(mae))\n",
    "\n",
    "evaluator.setMetricName(\"r2\")\n",
    "r2 = evaluator.evaluate(predictions)\n",
    "print(\"R² = {}\".format(r2))"
   ]
  },
  {
   "cell_type": "code",
   "execution_count": 27,
   "metadata": {},
   "outputs": [
    {
     "name": "stdout",
     "output_type": "stream",
     "text": [
      "+------+------------------------------------------------------------------------------------------------------------------------------------------------------------------------------------------------------------+\n",
      "|userId|recommendations                                                                                                                                                                                             |\n",
      "+------+------------------------------------------------------------------------------------------------------------------------------------------------------------------------------------------------------------+\n",
      "|1     |[{68945, 5.819867}, {3379, 5.819867}, {33649, 5.684592}, {6442, 5.6439357}, {78836, 5.555843}, {26133, 5.54515}, {25771, 5.5158415}, {184245, 5.478694}, {138966, 5.478694}, {134796, 5.478694}]            |\n",
      "|2     |[{58655, 4.9642744}, {6818, 4.955869}, {3200, 4.920883}, {131724, 4.899081}, {183897, 4.8821473}, {148881, 4.8577833}, {184245, 4.825499}, {138966, 4.825499}, {134796, 4.825499}, {117531, 4.825499}]      |\n",
      "|3     |[{70946, 4.8900337}, {5181, 4.8681636}, {5919, 4.8575773}, {4006, 4.8019543}, {7991, 4.7941875}, {4518, 4.7780023}, {2851, 4.7200255}, {2879, 4.5850077}, {158783, 4.4380436}, {5764, 4.4175234}]           |\n",
      "|4     |[{95182, 5.6871214}, {2070, 5.1535316}, {7247, 5.064497}, {8228, 5.0478034}, {1250, 5.0318737}, {720, 4.9961095}, {70994, 4.995673}, {3851, 4.921569}, {103341, 4.9142694}, {132333, 4.9028296}]            |\n",
      "|5     |[{3200, 4.629748}, {720, 4.4870534}, {26133, 4.4865575}, {2070, 4.4558406}, {185029, 4.423534}, {177593, 4.4068484}, {475, 4.3888607}, {2239, 4.376737}, {1272, 4.371032}, {951, 4.369315}]                 |\n",
      "|6     |[{3925, 5.018356}, {47997, 4.955108}, {32892, 4.903319}, {33649, 4.829763}, {3022, 4.75011}, {945, 4.700217}, {42730, 4.668908}, {26528, 4.6298604}, {74282, 4.629616}, {2563, 4.6167145}]                  |\n",
      "|7     |[{7842, 5.216699}, {55363, 5.188864}, {170355, 5.1630654}, {68945, 5.157738}, {3379, 5.157738}, {53123, 4.9604793}, {1232, 4.950088}, {26471, 4.8600645}, {7387, 4.852836}, {7025, 4.85065}]                |\n",
      "|8     |[{33649, 4.6396174}, {47423, 4.570609}, {92259, 4.557112}, {170705, 4.530785}, {179133, 4.5244765}, {175431, 4.5244765}, {175397, 4.5244765}, {175387, 4.5244765}, {175293, 4.5244765}, {173963, 4.5244765}]|\n",
      "|9     |[{6818, 5.5177536}, {25771, 5.4500313}, {3266, 5.4022703}, {148881, 5.3498816}, {68945, 5.210357}, {3379, 5.210357}, {33649, 5.1652117}, {106642, 5.036135}, {112421, 5.0346494}, {2135, 5.0319843}]        |\n",
      "|10    |[{7318, 5.2031217}, {4617, 4.755202}, {71579, 4.717712}, {8869, 4.677704}, {65230, 4.6428556}, {7034, 4.6130314}, {4248, 4.593202}, {4857, 4.5857263}, {56941, 4.5190425}, {7121, 4.517171}]                |\n",
      "+------+------------------------------------------------------------------------------------------------------------------------------------------------------------------------------------------------------------+\n",
      "only showing top 10 rows\n",
      "\n"
     ]
    }
   ],
   "source": [
    "# Générer des recommandations pour tous les utilisateurs\n",
    "userRecs = model.recommendForAllUsers(10)\n",
    "userRecs.show(10, False)"
   ]
  },
  {
   "cell_type": "code",
   "execution_count": 28,
   "metadata": {},
   "outputs": [
    {
     "name": "stdout",
     "output_type": "stream",
     "text": [
      "+------+--------------------------------+---------+\n",
      "|userId|title                           |rating   |\n",
      "+------+--------------------------------+---------+\n",
      "|123   |Saving Face (2004)              |5.123771 |\n",
      "|123   |Reign Over Me (2007)            |4.8322525|\n",
      "|123   |Isle of Dogs (2018)             |4.818185 |\n",
      "|123   |De platte jungle (1978)         |4.7657323|\n",
      "|123   |Nasu: Summer in Andalusia (2003)|4.7657323|\n",
      "+------+--------------------------------+---------+\n",
      "\n"
     ]
    }
   ],
   "source": [
    "# Générer les recommandations pour un utilisateur spécifique\n",
    "userRecs = model.recommendForUserSubset(ratings.filter(col(\"userId\") == 123), 5)\n",
    "userRecs = userRecs.withColumn(\"rec\", explode(col(\"recommendations\"))) \\\n",
    "                   .select(col(\"userId\"), col(\"rec.movieId\"), col(\"rec.rating\")) \\\n",
    "                   .join(movies, \"movieId\", \"left\") \\\n",
    "                   .select(\"userId\", \"title\", \"rating\")\n",
    "\n",
    "userRecs.show(truncate=False)"
   ]
  },
  {
   "cell_type": "markdown",
   "metadata": {},
   "source": [
    "## Recommandation basée sur le contenu"
   ]
  },
  {
   "cell_type": "markdown",
   "metadata": {},
   "source": [
    "## Recommandation basée sur les proximités utilisateurs (KNN)"
   ]
  },
  {
   "cell_type": "code",
   "execution_count": 35,
   "metadata": {},
   "outputs": [
    {
     "name": "stdout",
     "output_type": "stream",
     "text": [
      "Films similaires à 'Toy Story (1995)': ['Monsters, Inc. (2001)' 'Moana (2016)'\n",
      " 'Asterix and the Vikings (Astérix et les Vikings) (2006)' 'Turbo (2013)']\n"
     ]
    },
    {
     "name": "stderr",
     "output_type": "stream",
     "text": [
      "C:\\Users\\taral\\AppData\\Local\\Packages\\PythonSoftwareFoundation.Python.3.11_qbz5n2kfra8p0\\LocalCache\\local-packages\\Python311\\site-packages\\sklearn\\base.py:465: UserWarning: X does not have valid feature names, but NearestNeighbors was fitted with feature names\n",
      "  warnings.warn(\n"
     ]
    }
   ],
   "source": [
    "import numpy as np\n",
    "import pandas as pd\n",
    "from pyspark.sql import SparkSession\n",
    "from pyspark.sql.functions import udf\n",
    "from pyspark.sql.types import ArrayType, StringType\n",
    "from sklearn.preprocessing import MultiLabelBinarizer\n",
    "from sklearn.neighbors import NearestNeighbors\n",
    "\n",
    "# Initialisation de Spark\n",
    "spark = SparkSession.builder.appName(\"MovieRecommendation\").getOrCreate()\n",
    "\n",
    "# Charger les données\n",
    "df = spark.read.csv(\"ml-latest-small/movies.csv\", header=True, inferSchema=True)\n",
    "\n",
    "# Transformer les genres en liste de genres\n",
    "def split_genres(genres_str):\n",
    "    return genres_str.split('|') if genres_str else []\n",
    "\n",
    "# Enregistrer la fonction en tant que UDF pour PySpark\n",
    "split_genres_udf = udf(split_genres, ArrayType(StringType()))\n",
    "df = df.withColumn(\"genres\", split_genres_udf(df[\"genres\"]))\n",
    "\n",
    "# Convertir le DataFrame PySpark en DataFrame Pandas\n",
    "df_pandas = df.select(\"title\", \"genres\").toPandas()\n",
    "\n",
    "# Utilisation de MultiLabelBinarizer de sklearn pour encoder les genres\n",
    "mlb = MultiLabelBinarizer()\n",
    "genres_encoded = mlb.fit_transform(df_pandas[\"genres\"])\n",
    "X = pd.DataFrame(genres_encoded, columns=mlb.classes_)\n",
    "\n",
    "# Initialisation du modèle KNN de sklearn\n",
    "knn = NearestNeighbors(n_neighbors=5, metric='cosine')\n",
    "knn.fit(X)\n",
    "\n",
    "# Fonction de recommandation\n",
    "def recommend_movies(movie_title):\n",
    "    # Trouver l'index du film par titre\n",
    "    idx = df_pandas[df_pandas[\"title\"] == movie_title].index[0]\n",
    "    # Obtenir les indices des films les plus similaires\n",
    "    distances, indices = knn.kneighbors([X.iloc[idx]])\n",
    "    # Extraire les titres des films recommandés\n",
    "    recommendations = df_pandas.iloc[indices[0][1:]][\"title\"].values\n",
    "    return recommendations\n",
    "\n",
    "# Exemple de recommandation\n",
    "movie_example = \"Toy Story (1995)\"\n",
    "recommended_movies = recommend_movies(movie_example)\n",
    "print(f\"Films similaires à '{movie_example}': {recommended_movies}\")\n",
    "\n",
    "\n"
   ]
  },
  {
   "cell_type": "markdown",
   "metadata": {},
   "source": [
    "## Evaluation des approches de recommandation"
   ]
  }
 ],
 "metadata": {
  "kernelspec": {
   "display_name": "Python 3",
   "language": "python",
   "name": "python3"
  },
  "language_info": {
   "codemirror_mode": {
    "name": "ipython",
    "version": 3
   },
   "file_extension": ".py",
   "mimetype": "text/x-python",
   "name": "python",
   "nbconvert_exporter": "python",
   "pygments_lexer": "ipython3",
   "version": "3.11.9"
  }
 },
 "nbformat": 4,
 "nbformat_minor": 2
}
